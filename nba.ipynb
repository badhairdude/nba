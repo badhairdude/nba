{
 "cells": [
  {
   "cell_type": "markdown",
   "metadata": {},
   "source": [
    "# NBA Score Webscrapping\n",
    "\n",
    "\n",
    "## Uses Beautiful Soup to scrape score data from the ESPN site. Note it won't work until the \n"
   ]
  },
  {
   "cell_type": "code",
   "execution_count": 1,
   "metadata": {
    "collapsed": true
   },
   "outputs": [],
   "source": [
    "import bs4 as bs\n",
    "import requests\n",
    "import pandas as pd\n"
   ]
  },
  {
   "cell_type": "code",
   "execution_count": 2,
   "metadata": {
    "collapsed": false
   },
   "outputs": [
    {
     "data": {
      "text/plain": [
       "'lal'"
      ]
     },
     "execution_count": 2,
     "metadata": {},
     "output_type": "execute_result"
    }
   ],
   "source": [
    "\n",
    "def nba_list():\n",
    "    sauce = requests.get('http://www.espn.com/nba/teams')\n",
    "\n",
    "    soup = bs.BeautifulSoup(sauce.text, \"lxml\")\n",
    "\n",
    "    tables = soup.find_all('ul', class_='medium-logos')\n",
    "    table2 = soup.find_all('a')\n",
    "\n",
    "    team_list = []\n",
    "\n",
    "    for teams in soup.find_all('h5'):\n",
    "        team_list.append(teams.text)\n",
    "\n",
    "    #print(team_list)\n",
    "    #print(len(team_list))\n",
    "\n",
    "    team_list2 = []\n",
    "    team_url = []\n",
    "    for teams in tables:\n",
    "        links = teams.find_all('a', class_ = 'bi')\n",
    "        for url in links:\n",
    "            #print(url.get('href'))\n",
    "            team_url.append((url.get('href')).split(\"/\")[7])\n",
    "        names = teams.find_all('h5')\n",
    "        for name in names:\n",
    "            #print(name.text)\n",
    "            team_list2.append(name.text)\n",
    "\n",
    "    #print(team_list2)\n",
    "    #print(team_url)\n",
    "\n",
    "    dic = dict(zip(team_list2, team_url))\n",
    "    #print(dic)\n",
    "    return dic\n",
    "nba_list().get(\"Los Angeles Lakers\")\n"
   ]
  },
  {
   "cell_type": "code",
   "execution_count": 3,
   "metadata": {
    "collapsed": false
   },
   "outputs": [
    {
     "name": "stdout",
     "output_type": "stream",
     "text": [
      "vsMinnesota\n",
      "vsDenver\n",
      "vsDenver\n",
      "vsSacramento\n",
      "vsUtah\n",
      "@LA\n"
     ]
    }
   ],
   "source": [
    "def box_score(team):\n",
    "    team_link = \"http://www.espn.com/nba/team/schedule/_/name/\" + team\n",
    "    sauce = requests.get(team_link)\n",
    "    soup2 = bs.BeautifulSoup(sauce.text, \"lxml\")\n",
    "    box_scores = soup2.find_all('ul', class_ = 'game-schedule')\n",
    "    for vs in box_scores:\n",
    "        vs.find_all('a', class_ = 'href')\n",
    "        print(vs.text)\n",
    "\n",
    "box_score(\"lal\")\n",
    "\n"
   ]
  },
  {
   "cell_type": "code",
   "execution_count": null,
   "metadata": {
    "collapsed": true
   },
   "outputs": [],
   "source": []
  }
 ],
 "metadata": {
  "anaconda-cloud": {},
  "kernelspec": {
   "display_name": "Python [default]",
   "language": "python",
   "name": "python3"
  },
  "language_info": {
   "codemirror_mode": {
    "name": "ipython",
    "version": 3
   },
   "file_extension": ".py",
   "mimetype": "text/x-python",
   "name": "python",
   "nbconvert_exporter": "python",
   "pygments_lexer": "ipython3",
   "version": "3.5.2"
  }
 },
 "nbformat": 4,
 "nbformat_minor": 1
}
